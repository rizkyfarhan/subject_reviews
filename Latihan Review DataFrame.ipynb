{
 "cells": [
  {
   "cell_type": "markdown",
   "metadata": {
    "colab_type": "text",
    "id": "N02cn9Rhrip-"
   },
   "source": [
    "#Pandas Exercise\n",
    "\n",
    "We have a data about spotify top 100 songs in 2018 from kaggle.\n",
    "\n",
    "Data Description :\n",
    "\n",
    "*   Spotify URI for the song\n",
    "*   Name of the song\n",
    "*   Artist(s) of the song\n",
    "*   Audio features for the song (such as danceability, tempo, key etc.) : \n",
    "     1. danceability : Danceability describes how suitable a track is for dancing based on a combination of musical elements including tempo, rhythm stability, beat strength, and overall regularity. A value of 0.0 is least danceable and 1.0 is most danceable.\n",
    "     \n",
    "     2. tempo : The overall estimated tempo of a track in beats per minute (BPM). In musical terminology, tempo is the speed or pace of a given piece and derives directly from the average beat duration.\n",
    "     \n",
    "     3. duration_ms : The duration of the track in milliseconds.\n",
    "\n",
    "\n",
    "\n"
   ]
  },
  {
   "cell_type": "code",
   "execution_count": 1,
   "metadata": {
    "colab": {},
    "colab_type": "code",
    "id": "GwHJrxaYvyRX"
   },
   "outputs": [],
   "source": [
    "import pandas as pd\n",
    "import numpy as np"
   ]
  },
  {
   "cell_type": "code",
   "execution_count": 2,
   "metadata": {
    "colab": {},
    "colab_type": "code",
    "id": "91ICqjjXrlB5"
   },
   "outputs": [],
   "source": [
    "data = pd.read_csv('https://raw.githubusercontent.com/irfancndr/statsuiibootcamp/master/dataset/top_100songs_2018.csv')"
   ]
  },
  {
   "cell_type": "code",
   "execution_count": 48,
   "metadata": {},
   "outputs": [
    {
     "data": {
      "text/html": [
       "<div>\n",
       "<style scoped>\n",
       "    .dataframe tbody tr th:only-of-type {\n",
       "        vertical-align: middle;\n",
       "    }\n",
       "\n",
       "    .dataframe tbody tr th {\n",
       "        vertical-align: top;\n",
       "    }\n",
       "\n",
       "    .dataframe thead th {\n",
       "        text-align: right;\n",
       "    }\n",
       "</style>\n",
       "<table border=\"1\" class=\"dataframe\">\n",
       "  <thead>\n",
       "    <tr style=\"text-align: right;\">\n",
       "      <th></th>\n",
       "      <th>Unnamed: 0</th>\n",
       "      <th>id</th>\n",
       "      <th>name</th>\n",
       "      <th>artists</th>\n",
       "      <th>danceability</th>\n",
       "      <th>tempo</th>\n",
       "      <th>duration_ms</th>\n",
       "    </tr>\n",
       "  </thead>\n",
       "  <tbody>\n",
       "    <tr>\n",
       "      <th>0</th>\n",
       "      <td>0</td>\n",
       "      <td>6DCZcSspjsKoFjzjrWoCd</td>\n",
       "      <td>God's Plan</td>\n",
       "      <td>Drake</td>\n",
       "      <td>0.754</td>\n",
       "      <td>77.169</td>\n",
       "      <td>198973.0</td>\n",
       "    </tr>\n",
       "    <tr>\n",
       "      <th>1</th>\n",
       "      <td>1</td>\n",
       "      <td>3ee8Jmje8o58CHK66QrVC</td>\n",
       "      <td>SAD!</td>\n",
       "      <td>XXXTENTACION</td>\n",
       "      <td>0.740</td>\n",
       "      <td>75.023</td>\n",
       "      <td>166606.0</td>\n",
       "    </tr>\n",
       "    <tr>\n",
       "      <th>2</th>\n",
       "      <td>2</td>\n",
       "      <td>0e7ipj03S05BNilyu5bRz</td>\n",
       "      <td>rockstar (feat. 21 Savage)</td>\n",
       "      <td>Post Malone</td>\n",
       "      <td>0.587</td>\n",
       "      <td>159.847</td>\n",
       "      <td>218147.0</td>\n",
       "    </tr>\n",
       "    <tr>\n",
       "      <th>3</th>\n",
       "      <td>3</td>\n",
       "      <td>3swc6WTsr7rl9DqQKQA55</td>\n",
       "      <td>Psycho (feat. Ty Dolla $ign)</td>\n",
       "      <td>Post Malone</td>\n",
       "      <td>0.739</td>\n",
       "      <td>140.124</td>\n",
       "      <td>221440.0</td>\n",
       "    </tr>\n",
       "    <tr>\n",
       "      <th>4</th>\n",
       "      <td>4</td>\n",
       "      <td>2G7V7zsVDxg1yRsu7Ew9R</td>\n",
       "      <td>In My Feelings</td>\n",
       "      <td>Drake</td>\n",
       "      <td>0.835</td>\n",
       "      <td>91.030</td>\n",
       "      <td>217925.0</td>\n",
       "    </tr>\n",
       "  </tbody>\n",
       "</table>\n",
       "</div>"
      ],
      "text/plain": [
       "   Unnamed: 0                     id                          name  \\\n",
       "0           0  6DCZcSspjsKoFjzjrWoCd                    God's Plan   \n",
       "1           1  3ee8Jmje8o58CHK66QrVC                          SAD!   \n",
       "2           2  0e7ipj03S05BNilyu5bRz    rockstar (feat. 21 Savage)   \n",
       "3           3  3swc6WTsr7rl9DqQKQA55  Psycho (feat. Ty Dolla $ign)   \n",
       "4           4  2G7V7zsVDxg1yRsu7Ew9R                In My Feelings   \n",
       "\n",
       "        artists  danceability    tempo  duration_ms  \n",
       "0         Drake         0.754   77.169     198973.0  \n",
       "1  XXXTENTACION         0.740   75.023     166606.0  \n",
       "2   Post Malone         0.587  159.847     218147.0  \n",
       "3   Post Malone         0.739  140.124     221440.0  \n",
       "4         Drake         0.835   91.030     217925.0  "
      ]
     },
     "execution_count": 48,
     "metadata": {},
     "output_type": "execute_result"
    }
   ],
   "source": [
    "data.head(5)"
   ]
  },
  {
   "cell_type": "markdown",
   "metadata": {
    "colab_type": "text",
    "id": "lt2n1KsJ0YZg"
   },
   "source": [
    "## Show Top 10 artists with the largest presence in the top 100 spotify songs in 2018"
   ]
  },
  {
   "cell_type": "code",
   "execution_count": 49,
   "metadata": {},
   "outputs": [
    {
     "data": {
      "text/plain": [
       "Post Malone      6\n",
       "XXXTENTACION     6\n",
       "Drake            4\n",
       "Marshmello       3\n",
       "Ed Sheeran       3\n",
       "Calvin Harris    2\n",
       "Migos            2\n",
       "Dua Lipa         2\n",
       "Khalid           2\n",
       "Ariana Grande    2\n",
       "Name: artists, dtype: int64"
      ]
     },
     "execution_count": 49,
     "metadata": {},
     "output_type": "execute_result"
    }
   ],
   "source": [
    "data['artists'].value_counts().head(10)"
   ]
  },
  {
   "cell_type": "markdown",
   "metadata": {
    "colab_type": "text",
    "id": "M5Cq14lvzOid"
   },
   "source": [
    "##What is the longest duration of the top 100 spotify songs in 2018 ?"
   ]
  },
  {
   "cell_type": "code",
   "execution_count": 50,
   "metadata": {},
   "outputs": [
    {
     "data": {
      "text/plain": [
       "417920.0"
      ]
     },
     "execution_count": 50,
     "metadata": {},
     "output_type": "execute_result"
    }
   ],
   "source": [
    "data['duration_ms'].max()"
   ]
  },
  {
   "cell_type": "markdown",
   "metadata": {
    "colab_type": "text",
    "id": "7N5CLPHlzp_8"
   },
   "source": [
    "## Who and what songs has the longest duration of the top 100 spotify songs in 2018 ?"
   ]
  },
  {
   "cell_type": "code",
   "execution_count": null,
   "metadata": {},
   "outputs": [],
   "source": [
    "data[data]"
   ]
  },
  {
   "cell_type": "code",
   "execution_count": 12,
   "metadata": {},
   "outputs": [
    {
     "data": {
      "text/html": [
       "<div>\n",
       "<style scoped>\n",
       "    .dataframe tbody tr th:only-of-type {\n",
       "        vertical-align: middle;\n",
       "    }\n",
       "\n",
       "    .dataframe tbody tr th {\n",
       "        vertical-align: top;\n",
       "    }\n",
       "\n",
       "    .dataframe thead th {\n",
       "        text-align: right;\n",
       "    }\n",
       "</style>\n",
       "<table border=\"1\" class=\"dataframe\">\n",
       "  <thead>\n",
       "    <tr style=\"text-align: right;\">\n",
       "      <th></th>\n",
       "      <th>artists</th>\n",
       "      <th>name</th>\n",
       "    </tr>\n",
       "  </thead>\n",
       "  <tbody>\n",
       "    <tr>\n",
       "      <th>21</th>\n",
       "      <td>Nio Garcia</td>\n",
       "      <td>Te Bot? - Remix</td>\n",
       "    </tr>\n",
       "  </tbody>\n",
       "</table>\n",
       "</div>"
      ],
      "text/plain": [
       "       artists             name\n",
       "21  Nio Garcia  Te Bot? - Remix"
      ]
     },
     "execution_count": 12,
     "metadata": {},
     "output_type": "execute_result"
    }
   ],
   "source": [
    "indmax = data['duration_ms'].argmax()\n",
    "data.loc[[indmax],['artists','name']]"
   ]
  },
  {
   "cell_type": "markdown",
   "metadata": {
    "colab_type": "text",
    "id": "ZC4SimXD4GTm"
   },
   "source": [
    "## Show the total duration from the artists in the top 100 spotify songs in 2018 !"
   ]
  },
  {
   "cell_type": "code",
   "execution_count": 103,
   "metadata": {},
   "outputs": [
    {
     "data": {
      "text/plain": [
       "artists\n",
       "Post Malone          1342027.0\n",
       "Drake                 866259.0\n",
       "XXXTENTACION          784703.0\n",
       "Ed Sheeran            756663.0\n",
       "Marshmello            597734.0\n",
       "                       ...    \n",
       "Portugal. The Man     163253.0\n",
       "Loud Luxury           163216.0\n",
       "Dennis Lloyd          156600.0\n",
       "Lil Baby              142273.0\n",
       "Bazzi                 131064.0\n",
       "Name: duration_ms, Length: 70, dtype: float64"
      ]
     },
     "execution_count": 103,
     "metadata": {},
     "output_type": "execute_result"
    }
   ],
   "source": [
    "byar = data.groupby('artists')\n",
    "dur = byar['duration_ms'].sum().sort_values(ascending=False).head(100)\n",
    "dur"
   ]
  },
  {
   "cell_type": "markdown",
   "metadata": {
    "colab_type": "text",
    "id": "Vq5_w00U4qBZ"
   },
   "source": [
    "## Who artists has the average fastest tempo in the top 100 spotify song 2018 ?"
   ]
  },
  {
   "cell_type": "code",
   "execution_count": 99,
   "metadata": {},
   "outputs": [
    {
     "data": {
      "text/plain": [
       "artists\n",
       "Maluma               198.075\n",
       "Keala Settle         191.702\n",
       "Nicky Jam            180.073\n",
       "ZAYN                 180.043\n",
       "Piso 21              170.019\n",
       "                      ...   \n",
       "benny blanco          89.391\n",
       "G-Eazy                87.908\n",
       "Juice WRLD            83.903\n",
       "Natti Natasha         79.997\n",
       "Portugal. The Man     79.028\n",
       "Name: tempo, Length: 70, dtype: float64"
      ]
     },
     "execution_count": 99,
     "metadata": {},
     "output_type": "execute_result"
    }
   ],
   "source": [
    "byar = data.groupby('artists')\n",
    "tempo = byar['tempo'].mean().sort_values(ascending=False).head(100)\n",
    "tempo"
   ]
  },
  {
   "cell_type": "markdown",
   "metadata": {
    "colab_type": "text",
    "id": "CRPyKlxl6o8s"
   },
   "source": [
    "## Who artists has the average danceable songs in the top 100 spotify song 2018 ?"
   ]
  },
  {
   "cell_type": "code",
   "execution_count": 97,
   "metadata": {},
   "outputs": [
    {
     "data": {
      "text/plain": [
       "artists\n",
       "Lil Baby         0.964\n",
       "6ix9ine          0.931\n",
       "BlocBoy JB       0.922\n",
       "Wolfine          0.909\n",
       "Nio Garcia       0.903\n",
       "                 ...  \n",
       "DJ Khaled        0.552\n",
       "Juice WRLD       0.511\n",
       "Billie Eilish    0.351\n",
       "Keala Settle     0.284\n",
       "ZAYN             0.258\n",
       "Name: danceability, Length: 70, dtype: float64"
      ]
     },
     "execution_count": 97,
     "metadata": {},
     "output_type": "execute_result"
    }
   ],
   "source": [
    "byar = data.groupby('artists')\n",
    "dance = byar['danceability'].mean().sort_values(ascending=False).head(100)\n",
    "dance"
   ]
  },
  {
   "cell_type": "markdown",
   "metadata": {
    "colab_type": "text",
    "id": "vEefRQlk5PYz"
   },
   "source": [
    "## Can we achieve the information from the last 3 exercise in just 1 line ?"
   ]
  },
  {
   "cell_type": "code",
   "execution_count": 132,
   "metadata": {},
   "outputs": [
    {
     "data": {
      "text/html": [
       "<div>\n",
       "<style scoped>\n",
       "    .dataframe tbody tr th:only-of-type {\n",
       "        vertical-align: middle;\n",
       "    }\n",
       "\n",
       "    .dataframe tbody tr th {\n",
       "        vertical-align: top;\n",
       "    }\n",
       "\n",
       "    .dataframe thead th {\n",
       "        text-align: right;\n",
       "    }\n",
       "</style>\n",
       "<table border=\"1\" class=\"dataframe\">\n",
       "  <thead>\n",
       "    <tr style=\"text-align: right;\">\n",
       "      <th></th>\n",
       "      <th>artists</th>\n",
       "      <th>duration_ms</th>\n",
       "      <th>danceability</th>\n",
       "      <th>tempo</th>\n",
       "    </tr>\n",
       "  </thead>\n",
       "  <tbody>\n",
       "    <tr>\n",
       "      <th>0</th>\n",
       "      <td>Post Malone</td>\n",
       "      <td>1342027.0</td>\n",
       "      <td>0.643667</td>\n",
       "      <td>148.686500</td>\n",
       "    </tr>\n",
       "    <tr>\n",
       "      <th>1</th>\n",
       "      <td>Drake</td>\n",
       "      <td>866259.0</td>\n",
       "      <td>0.771750</td>\n",
       "      <td>104.144000</td>\n",
       "    </tr>\n",
       "    <tr>\n",
       "      <th>2</th>\n",
       "      <td>XXXTENTACION</td>\n",
       "      <td>784703.0</td>\n",
       "      <td>0.788833</td>\n",
       "      <td>110.496000</td>\n",
       "    </tr>\n",
       "    <tr>\n",
       "      <th>3</th>\n",
       "      <td>Ed Sheeran</td>\n",
       "      <td>756663.0</td>\n",
       "      <td>0.670333</td>\n",
       "      <td>95.339667</td>\n",
       "    </tr>\n",
       "    <tr>\n",
       "      <th>4</th>\n",
       "      <td>Marshmello</td>\n",
       "      <td>597734.0</td>\n",
       "      <td>0.611000</td>\n",
       "      <td>112.355000</td>\n",
       "    </tr>\n",
       "    <tr>\n",
       "      <th>...</th>\n",
       "      <td>...</td>\n",
       "      <td>...</td>\n",
       "      <td>...</td>\n",
       "      <td>...</td>\n",
       "    </tr>\n",
       "    <tr>\n",
       "      <th>65</th>\n",
       "      <td>Portugal. The Man</td>\n",
       "      <td>163253.0</td>\n",
       "      <td>0.801000</td>\n",
       "      <td>79.028000</td>\n",
       "    </tr>\n",
       "    <tr>\n",
       "      <th>66</th>\n",
       "      <td>Loud Luxury</td>\n",
       "      <td>163216.0</td>\n",
       "      <td>0.752000</td>\n",
       "      <td>121.958000</td>\n",
       "    </tr>\n",
       "    <tr>\n",
       "      <th>67</th>\n",
       "      <td>Dennis Lloyd</td>\n",
       "      <td>156600.0</td>\n",
       "      <td>0.592000</td>\n",
       "      <td>99.976000</td>\n",
       "    </tr>\n",
       "    <tr>\n",
       "      <th>68</th>\n",
       "      <td>Lil Baby</td>\n",
       "      <td>142273.0</td>\n",
       "      <td>0.964000</td>\n",
       "      <td>119.958000</td>\n",
       "    </tr>\n",
       "    <tr>\n",
       "      <th>69</th>\n",
       "      <td>Bazzi</td>\n",
       "      <td>131064.0</td>\n",
       "      <td>0.710000</td>\n",
       "      <td>142.929000</td>\n",
       "    </tr>\n",
       "  </tbody>\n",
       "</table>\n",
       "<p>70 rows × 4 columns</p>\n",
       "</div>"
      ],
      "text/plain": [
       "              artists  duration_ms  danceability       tempo\n",
       "0         Post Malone    1342027.0      0.643667  148.686500\n",
       "1               Drake     866259.0      0.771750  104.144000\n",
       "2        XXXTENTACION     784703.0      0.788833  110.496000\n",
       "3          Ed Sheeran     756663.0      0.670333   95.339667\n",
       "4          Marshmello     597734.0      0.611000  112.355000\n",
       "..                ...          ...           ...         ...\n",
       "65  Portugal. The Man     163253.0      0.801000   79.028000\n",
       "66        Loud Luxury     163216.0      0.752000  121.958000\n",
       "67       Dennis Lloyd     156600.0      0.592000   99.976000\n",
       "68           Lil Baby     142273.0      0.964000  119.958000\n",
       "69              Bazzi     131064.0      0.710000  142.929000\n",
       "\n",
       "[70 rows x 4 columns]"
      ]
     },
     "execution_count": 132,
     "metadata": {},
     "output_type": "execute_result"
    }
   ],
   "source": [
    "res = pd.DataFrame()\n",
    "res['artists'] = art\n",
    "res['duration_ms'] = dur\n",
    "res['danceability'] = dance\n",
    "res['tempo'] = tempo\n",
    "res.drop('index',axis=1,inplace=True)\n",
    "res"
   ]
  }
 ],
 "metadata": {
  "colab": {
   "collapsed_sections": [],
   "name": "2. Pandas Exercise",
   "provenance": []
  },
  "kernelspec": {
   "display_name": "Python 3",
   "language": "python",
   "name": "python3"
  },
  "language_info": {
   "codemirror_mode": {
    "name": "ipython",
    "version": 3
   },
   "file_extension": ".py",
   "mimetype": "text/x-python",
   "name": "python",
   "nbconvert_exporter": "python",
   "pygments_lexer": "ipython3",
   "version": "3.7.6"
  }
 },
 "nbformat": 4,
 "nbformat_minor": 1
}
